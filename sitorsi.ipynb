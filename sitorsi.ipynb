{
  "cells": [
    {
      "cell_type": "markdown",
      "source": [
        "<img src=\"https://api-frontend.kemdikbud.go.id/v2/detail_pt_logo/ODcyMEY5MkMtREQyMi00RDU3LUI3MEItNTZDNzJFNUVGREMw\" width=\"75\"/>\n",
        "<h1 id=\"judul\"><b>Aplikasi SITORSI</b></h1>\n",
        "<h3>Laporan Tugas Besar Struktur Data & Algoritma</h3>\n",
        "\n",
        "![nama](https://img.shields.io/badge/Nama-Muhammad%20Ali%20Pratama%20Putra-blue)\n",
        "![nim](https://img.shields.io/badge/NIM-5220411416-lightgrey)\n",
        "![matkul](https://img.shields.io/badge/Mata%20Kuliah-Struktur%20Data%20&%20Algoritma-lightgrey)\n",
        "\n",
        "---\n",
        "\n",
        "### **List of Contents**\n",
        "- <a href=\"#scrollTo=A7vOAVCtjWUq\">Pengantar</a>\n",
        "\n",
        "- <a href=\"#scrollTo=g_XrUJnB5NhV\">Pembuatan Node dan BST</a>\n",
        "\n",
        "- <a href=\"#scrollTo=g_XrUJnB5NhV\">Pembuatan Objek BST dan Array/list</a>\n",
        "\n",
        "- <a href=\"#scrollTo=Oh2UvQYM7mZ5\">Fungsi-fungsi Fitur Internal</a>\n",
        "\n",
        "- <a href=\"#scrollTo=-VQ8Hu0QJhgf\">Configuration Application</a>\n",
        "\n",
        "- <a href=\"#scrollTo=R0j5v_ORKIoc\">Main Menu</a>"
      ],
      "metadata": {
        "id": "GqRsp9B2cCiE"
      }
    },
    {
      "cell_type": "markdown",
      "source": [
        "### **Pengantar**\n",
        "---"
      ],
      "metadata": {
        "id": "A7vOAVCtjWUq"
      }
    },
    {
      "cell_type": "markdown",
      "source": [
        "Disini saya akan memaparkan tugas besar saya di mata kuliah Struktur Data & Algoritma. Terima kasih kepada Pak Donny Avianto, S.T., M.T. selaku dosen pengampu mata kuliah ini. Pada tugas ini, saya mengikuti arahan yang diberikan di soal dan menambahkan beberapa metode dan fitur agar aplikasi dapat berjalan dengan baik. Sebagian besar kode dibawah, terdapat banyak kode yang bersifat *customizable*. Ini bertujuan supaya aplikasi lebih mudah di *maintainance* kedepannya. Sebagai contoh, jika aplikasi ingin ditambah fiturnya, developer dapat membuat fungsi tambahan dan merutekan kembali pada config variabelnya, tanpa perlu mengubah struktur kode yang lain. Jadi aplikasi bersifat lebih modular dan mudah untuk melakukan *debugging* jika ada kendala.\n",
        "\n",
        "> **Projek dapat diakses pada Link Colab (Publik)** : https://colab.research.google.com/drive/1n5LCsNgYtTEdxGp_eQyisFymQ0FFIxtT?usp=sharing\n",
        "\n",
        "Berikut Use Case diagram dari aplikasi ini:\n",
        "\n",
        "<img src=\"https://i.ibb.co/4TgjpKP/Use-Case-Diagram1.jpg\" width=500/>\n",
        "\n",
        "Berikut hubungan data pada struktur data yang dibuat:\n",
        "\n",
        "<img src=\"https://i.ibb.co/Ld0cgJ6/ERD.jpg\" width=500/>\n"
      ],
      "metadata": {
        "id": "Ot5jQcjMjZ9K"
      }
    },
    {
      "cell_type": "markdown",
      "source": [
        "### **Pembuatan Node dan BST (Binary Search Tree)**\n",
        "---"
      ],
      "metadata": {
        "id": "g_XrUJnB5NhV"
      }
    },
    {
      "cell_type": "markdown",
      "source": [
        "> Disini saya membuat node dan BST sedikit berbeda dengan yang diajarkan. Di kode ini saya bertujuan untuk fleksibel terhadap config yang diberikan. Jika kedepannya akan ada penambahan atribut pada node. Node akan otomatis menambah atribut sesuai dengan pengaturan yang ada di config."
      ],
      "metadata": {
        "id": "7gGVbJ0d5ZP4"
      }
    },
    {
      "cell_type": "markdown",
      "source": [
        "1. Class Node\n",
        "> Class ini berfungsi sebagai wadah penampungan setiap data produk berisi atribut-atribut yang sesuai di config['bst_attributes']. Untuk di contoh ini, terdapat 4 atribut yang digunakan yaitu no.sku, nama produk, harga satuan, dan jumlah stok.\n",
        "\n",
        " > Atribut dapat ditambah sesuai kebutuhan dan otomatis Node akan menyesuaikan dengan config yang diberikan\n",
        "\n",
        " > Berikut diagram class Node\n",
        "\n",
        " <img src=\"https://i.ibb.co/C503h5G/Main.jpg\" height=\"150\"/>"
      ],
      "metadata": {
        "id": "93nyE3M8Jn4l"
      }
    },
    {
      "cell_type": "code",
      "source": [
        "class Node:\n",
        "    def __init__(self, *data):\n",
        "        self.left = None\n",
        "        self.right = None\n",
        "        for i, v in enumerate(config['bst_attributes']):\n",
        "            try:\n",
        "                setattr(self, v['id'], v['type'](data[i]))\n",
        "            except:\n",
        "                setattr(self, v['id'], data[i])"
      ],
      "metadata": {
        "id": "mkKtmHw_JN5W"
      },
      "execution_count": null,
      "outputs": []
    },
    {
      "cell_type": "markdown",
      "source": [
        "2. Class BinarySearchTree\n",
        "> Class ini berfungsi sebagai penampungan node yang diatur tidak duplikat dan terurut secara tree. Acuan pengurutan menggunakan atribut no sku\n",
        "\n",
        " > Atribut Primary/acuan dapat diubah di config. Namun data wajib bertipe integer"
      ],
      "metadata": {
        "id": "IkL0iahDK_E5"
      }
    },
    {
      "cell_type": "code",
      "execution_count": null,
      "metadata": {
        "id": "JCqU8Bgm3-Su"
      },
      "outputs": [],
      "source": [
        "class BinarySearchTree:\n",
        "    def __init__(self):\n",
        "        self.root = None\n",
        "        self.total = 0\n",
        "\n",
        "    def insert(self, *data):\n",
        "        try:\n",
        "            new_node = Node(*data)\n",
        "        except:\n",
        "            return False, 'Kesalahan Data'\n",
        "        if new_node is None:\n",
        "            return False, 'Kesalahan Data'\n",
        "        new_node_value = vars(new_node)[config['bst_attributes'][0]['id']]\n",
        "        if self.root is None:\n",
        "            self.root = new_node\n",
        "            self.total += 1\n",
        "            return (True,)\n",
        "        temp = self.root\n",
        "        while True:\n",
        "            if new_node_value == vars(temp)[config['bst_attributes'][0]['id']]:\n",
        "                self.total += 1\n",
        "                return False, config['msg_duplicate_primary_bst']\n",
        "            if new_node_value < vars(temp)[config['bst_attributes'][0]['id']]:\n",
        "                if temp.left is None:\n",
        "                    temp.left = new_node\n",
        "                    self.total += 1\n",
        "                    return (True,)\n",
        "                temp = temp.left\n",
        "            else:\n",
        "                if temp.right is None:\n",
        "                    temp.right = new_node\n",
        "                    self.total += 1\n",
        "                    return (True,)\n",
        "                temp = temp.right\n",
        "\n",
        "    def get(self, primary_id):\n",
        "        temp = self.root\n",
        "        while temp is not None:\n",
        "            if primary_id < vars(temp)[config['bst_attributes'][0]['id']]:\n",
        "                temp = temp.left\n",
        "            elif primary_id > vars(temp)[config['bst_attributes'][0]['id']]:\n",
        "                temp = temp.right\n",
        "            else:\n",
        "                return temp\n",
        "        return None\n",
        "\n",
        "    def print_bfs(self):\n",
        "        current_node = self.root\n",
        "        if current_node is None:\n",
        "            return None\n",
        "        queue = []\n",
        "        results = []\n",
        "        queue.append(current_node)\n",
        "\n",
        "        while len(queue) > 0:\n",
        "            current_node = queue.pop(0)\n",
        "            results.append(current_node)\n",
        "            if current_node.left is not None:\n",
        "                queue.append(current_node.left)\n",
        "            if current_node.right is not None:\n",
        "                queue.append(current_node.right)\n",
        "        return results\n",
        "\n",
        "    def print_dfs(self, order:int = 0):\n",
        "        results = []\n",
        "        def transverse(current_node):\n",
        "            if order == 0:\n",
        "                results.append(current_node)\n",
        "            if current_node.left is not None:\n",
        "                transverse(current_node.left)\n",
        "            if order == 1:\n",
        "                results.append(current_node)\n",
        "            if current_node.right is not None:\n",
        "                transverse(current_node.right)\n",
        "            if order == 2:\n",
        "                results.append(current_node)\n",
        "        if self.root is None:\n",
        "            return None\n",
        "        transverse(self.root)\n",
        "        return results\n",
        "\n",
        "    def reconstruct(self, primary_id):\n",
        "        def deleteNode(currentNode, id_key):\n",
        "            if currentNode is None:\n",
        "                return currentNode\n",
        "            if vars(currentNode)[config['bst_attributes'][0]['id']] > id_key:\n",
        "                currentNode.left = deleteNode(currentNode.left, id_key)\n",
        "                return currentNode\n",
        "            elif vars(currentNode)[config['bst_attributes'][0]['id']] < id_key:\n",
        "                currentNode.right = deleteNode(currentNode.right, id_key)\n",
        "                return currentNode\n",
        "            if currentNode.left is None:\n",
        "                temp = currentNode.right\n",
        "                del currentNode\n",
        "                return temp\n",
        "            elif currentNode.right is None:\n",
        "                temp = currentNode.left\n",
        "                del currentNode\n",
        "                return temp\n",
        "            else:\n",
        "                succParent = currentNode\n",
        "                succ = currentNode.right\n",
        "                while succ.left is not None:\n",
        "                    succParent = succ\n",
        "                    succ = succ.left\n",
        "                if succParent != currentNode:\n",
        "                    succParent.left = succ.right\n",
        "                else:\n",
        "                    succParent.right = succ.right\n",
        "                vars(currentNode)[config['bst_attributes'][0]['id']] = vars(succ)[config['bst_attributes'][0]['id']]\n",
        "                del succ\n",
        "                return currentNode\n",
        "        return deleteNode(self.root, primary_id)"
      ]
    },
    {
      "cell_type": "markdown",
      "source": [
        "### **Pembuatan Objek BST dan Array/list**\n",
        "---\n",
        "\n"
      ],
      "metadata": {
        "id": "jY63BDke7VKF"
      }
    },
    {
      "cell_type": "markdown",
      "source": [
        "> Tujuan kode ini untuk menampung data barang dan transaksi"
      ],
      "metadata": {
        "id": "wIna6sLK7fCx"
      }
    },
    {
      "cell_type": "code",
      "execution_count": null,
      "metadata": {
        "id": "N2GGg6vO3-Sv"
      },
      "outputs": [],
      "source": [
        "data_bst = BinarySearchTree()\n",
        "data_transaksi = []"
      ]
    },
    {
      "cell_type": "markdown",
      "source": [
        "> Fungsi dibawah digunakan untuk utility dari beberapa fungsi"
      ],
      "metadata": {
        "id": "tnLUD_i-fwcd"
      }
    },
    {
      "cell_type": "code",
      "source": [
        "def expected_type(data, expected_type):\n",
        "    try:\n",
        "        data = expected_type(data)\n",
        "    except:\n",
        "        return False, data\n",
        "    else:\n",
        "        return True, data\n",
        "\n",
        "def input_confirmation(message, msg_fail):\n",
        "    confirm = input(f\"{message} [y/n]\").lower()\n",
        "    while confirm not in ('y', 'n'):\n",
        "        print(msg_fail)\n",
        "        confirm = input(f\"{message} [y/n]\").lower()\n",
        "    return True if confirm == 'y' else False\n",
        "\n",
        "def input_expected_type(message, msg_fail, datatype):\n",
        "    inputted = input(message)\n",
        "    is_type = False\n",
        "    while is_type is False:\n",
        "        try:\n",
        "            inputted = datatype(inputted)\n",
        "        except:\n",
        "            print(msg_fail)\n",
        "            inputted = input(message)\n",
        "        else:\n",
        "            is_type = True\n",
        "    return inputted\n",
        "\n",
        "def input_next(message):\n",
        "    temp = input(message)\n",
        "    return True"
      ],
      "metadata": {
        "id": "hn3HzCq4XBfV"
      },
      "execution_count": null,
      "outputs": []
    },
    {
      "cell_type": "markdown",
      "source": [
        "> Fungsi pembuat tabel"
      ],
      "metadata": {
        "id": "NfIRQipzf4tY"
      }
    },
    {
      "cell_type": "code",
      "source": [
        "def make_table(title_column:list, multi_list:list):\n",
        "    width = list(map(lambda x: x[1], title_column))\n",
        "    print('-' * (sum(width) + len(width)))\n",
        "    for i, v in enumerate(title_column):\n",
        "        if i == len(title_column) - 1:\n",
        "            print(f\"{str(v[0][:width[i]]).ljust(width[i])}\", end=\"\\n\")\n",
        "        else:\n",
        "            print(f\"{str(v[0][:width[i]]).ljust(width[i])}\", end=\" \")\n",
        "    print('-' * (sum(width) + len(width)))\n",
        "    for j in multi_list:\n",
        "        for i, v in enumerate(j):\n",
        "            if i == len(title_column) - 1:\n",
        "                print(f\"{str(v)[:width[i]].ljust(width[i])}\", end=\"\\n\")\n",
        "            else:\n",
        "                print(f\"{str(v)[:width[i]].ljust(width[i])}\", end=\" \")"
      ],
      "metadata": {
        "id": "5v4t4BCC9eBz"
      },
      "execution_count": null,
      "outputs": []
    },
    {
      "cell_type": "markdown",
      "source": [
        "### **Fungsi-Fungsi Fitur Internal**\n",
        "---"
      ],
      "metadata": {
        "id": "Oh2UvQYM7mZ5"
      }
    },
    {
      "cell_type": "markdown",
      "source": [
        "1. Tambah data produk\n",
        "\n",
        " > Fungsi ini bertujuan untuk menambah data-data produk seperti: No.SKU,  Nama Produk, Harga Satuan, dan Jumlah stok pada BST. Kode ini terlihat panjang karena menyesuaikan pengaturan dari config, melakukan input konfirmasi ulang, dan banyak penanganan error dari input user."
      ],
      "metadata": {
        "id": "saoHUKA2E_DJ"
      }
    },
    {
      "cell_type": "code",
      "source": [
        "def a1():\n",
        "    global data_bst\n",
        "    print(config['menu'][0]['lists'][0])\n",
        "    data = []\n",
        "    for i in config['bst_attributes']:\n",
        "        data.append(input(f\"Masukkan data {i['title']} -> \"))\n",
        "    print(f\"{config['menu'][0]['lists'][0]}\\nKonfirmasi Data\")\n",
        "    confirm = input_confirmation(config['msg_confirmation'], config['msg_not_in_choise'])\n",
        "    if confirm:\n",
        "        if len(data[0]) <= 4:\n",
        "            status_process = data_bst.insert(*data)\n",
        "            if status_process[0]:\n",
        "                print('Penambahan Data Berhasil ...')\n",
        "                return True\n",
        "            print(status_process[1])\n",
        "        else:\n",
        "            print('No SKU tidak boleh melebihi 4 digit angka')\n",
        "    print('Mohon ulangi lagi')\n",
        "    return False"
      ],
      "metadata": {
        "id": "vleZbatCFTZe"
      },
      "execution_count": null,
      "outputs": []
    },
    {
      "cell_type": "markdown",
      "source": [
        "2. Restok produk\n",
        "\n",
        " > Fungsi ini bertujuan untuk update tambah stok data yang ada di BST"
      ],
      "metadata": {
        "id": "uV4z6VQ8zXga"
      }
    },
    {
      "cell_type": "code",
      "source": [
        "def a2():\n",
        "    print(config['menu'][0]['lists'][1])\n",
        "    inputted = input('Masukkan no sku -> ')\n",
        "    while inputted.isnumeric() == False or len(inputted) > 4:\n",
        "        print('no sku tidak sesuai')\n",
        "        inputted = input('Masukkan no sku -> ')\n",
        "    node_target = data_bst.get(int(inputted))\n",
        "    if node_target is not None:\n",
        "        print(f\"No. SKU -> {inputted}\")\n",
        "        old_stock = vars(node_target)[config['bst_stock_attribute']]\n",
        "        print(f\"Total stok sekarang -> {old_stock}\")\n",
        "        addition = input(\"Stok yang ingin ditambah -> \")\n",
        "        while inputted.isnumeric() == False:\n",
        "            print('Stok tidak valid')\n",
        "            addition = input(\"Stok yang ingin ditambah -> \")\n",
        "        print(f\"Total yang akan disimpan -> {old_stock + int(addition)}\")\n",
        "        confirm = input_confirmation(config['msg_confirmation'], config['msg_not_in_choise'])\n",
        "        if confirm:\n",
        "            vars(node_target)[config['bst_stock_attribute']] += int(addition)\n",
        "            print('Penambahan Stok Berhasil ...')\n",
        "            return True\n",
        "        else:\n",
        "            print('Mohon ulangi lagi')\n",
        "    else:\n",
        "        print('no sku tidak terdaftar mohon buat terlebih dahulu')\n",
        "    return False"
      ],
      "metadata": {
        "id": "PevvvU3YFVi9"
      },
      "execution_count": null,
      "outputs": []
    },
    {
      "cell_type": "markdown",
      "source": [
        "3. Tampil Stok berdasarkan No. SKU\n",
        "\n",
        "> Fungsi ini bertujuan untuk menampilkan data stok produk berdasarkan no sku yang diberikan"
      ],
      "metadata": {
        "id": "4cBUI3Bm2jtr"
      }
    },
    {
      "cell_type": "code",
      "source": [
        "def a3():\n",
        "    print(config['menu'][0]['lists'][2])\n",
        "    inputted = input('Masukkan no sku -> ')\n",
        "    while inputted.isnumeric() == False or len(inputted) > 4:\n",
        "        print('no sku tidak sesuai')\n",
        "        inputted = input('Masukkan no sku -> ')\n",
        "    node_target = data_bst.get(int(inputted))\n",
        "    if node_target is not None:\n",
        "        stock = vars(node_target)[config['bst_stock_attribute']]\n",
        "        print(f'Stok dengan no sku {inputted} adalah {stock}')\n",
        "        input_next('Ketik apapun untuk melanjutkan ...')\n",
        "        return True\n",
        "    else:\n",
        "        print('no sku tidak terdaftar mohon buat terlebih dahulu')\n",
        "        return False"
      ],
      "metadata": {
        "id": "M3VipzOO2lRJ"
      },
      "execution_count": null,
      "outputs": []
    },
    {
      "cell_type": "markdown",
      "source": [
        "4. Lihat Semua Barang\n",
        "\n",
        "> Fungsi ini bertujuan untuk menampilkan seluruh data produk yang ada di BST"
      ],
      "metadata": {
        "id": "z-zrMGVE3TnQ"
      }
    },
    {
      "cell_type": "code",
      "source": [
        "def a4():\n",
        "    print(config['menu'][0]['lists'][3])\n",
        "    print_method = ('Breadth First Search', 'DFS Preorder', 'DFS Inorder', 'DFS Postorder')\n",
        "    for i, v in enumerate(print_method):\n",
        "        print(f'[{i}] {v}')\n",
        "    inputted = input('Masukkan metode cetak -> ')\n",
        "    while inputted.isnumeric() == False or expected_type(inputted, int)[1] >= len(print_method) or expected_type(inputted, int)[1] < 0:\n",
        "        print('Pilihan tidak valid')\n",
        "        inputted = input('Masukkan metode cetak -> ')\n",
        "    column = (('No. SKU', 7), ('Nama Barang', 15), ('Jumlah Stok', 12), ('Harga Satuan', 12))\n",
        "    if inputted == '0':\n",
        "        data_node = data_bst.print_bfs()\n",
        "    elif inputted == '1':\n",
        "        data_node = data_bst.print_dfs(0)\n",
        "    elif inputted == '2':\n",
        "        data_node = data_bst.print_dfs(1)\n",
        "    elif inputted == '3':\n",
        "        data_node = data_bst.print_dfs(2)\n",
        "    if data_node is not None:\n",
        "        data = list(map(lambda x: [str(x.sku).zfill(4), str(x.nama_barang), str(x.harga_satuan), str(x.jumlah_stok)], data_node))\n",
        "        make_table(column, data)\n",
        "    else:\n",
        "        print('Belum ada data apapun')\n",
        "    input_next('Ketik apapun untuk melanjutkan ...')\n",
        "    return True"
      ],
      "metadata": {
        "id": "QrSf0dcO4MP4"
      },
      "execution_count": null,
      "outputs": []
    },
    {
      "cell_type": "markdown",
      "source": [
        "5. Hapus Barang\n",
        "\n",
        "> Dengan memakai method reconstruct(), user dapat menghapus produk dengan aman pada BST"
      ],
      "metadata": {
        "id": "aczrqmYy3miD"
      }
    },
    {
      "cell_type": "code",
      "source": [
        "def a5():\n",
        "    print(config['menu'][0]['lists'][4])\n",
        "    inputted = input('Masukkan no sku -> ')\n",
        "    while inputted.isnumeric() == False or len(inputted) > 4:\n",
        "        print('no sku tidak sesuai')\n",
        "        inputted = input('Masukkan no sku -> ')\n",
        "    node_target = data_bst.get(int(inputted))\n",
        "    if node_target is not None:\n",
        "        data_bst.reconstruct(int(inputted))\n",
        "        return True\n",
        "    else:\n",
        "        print('no sku tidak terdaftar mohon buat terlebih dahulu')\n",
        "        return False"
      ],
      "metadata": {
        "id": "1ITtC76tDWXt"
      },
      "execution_count": null,
      "outputs": []
    },
    {
      "cell_type": "markdown",
      "source": [
        "6. Tambah Transaksi\n",
        "\n",
        " > Fungsi ini bertujuan menambah data transaksi pada list"
      ],
      "metadata": {
        "id": "XPbSNy4PYmpQ"
      }
    },
    {
      "cell_type": "code",
      "source": [
        "def b1():\n",
        "    temp_data = []\n",
        "    print(config['menu'][1]['lists'][0])\n",
        "    for i, v in enumerate(config['transaction_data']):\n",
        "        if v['is_shown']:\n",
        "            inputted = input(f\"Masukkan data {v['title']} -> \")\n",
        "            if v['is_int']:\n",
        "                while inputted.isnumeric() == False:\n",
        "                    print('data tidak valid')\n",
        "                    inputted = input(f\"Masukkan data {v['title']} -> \")\n",
        "            if v['rule'] is None:\n",
        "                temp_data.append(inputted)\n",
        "            else:\n",
        "                value_rule = v['rule'](inputted, temp_data)\n",
        "                if value_rule != False:\n",
        "                    temp_data.append(value_rule)\n",
        "                else:\n",
        "                    return False\n",
        "        else:\n",
        "            value_rule = v['rule'](temp_data)\n",
        "            if value_rule != False:\n",
        "                temp_data.append(value_rule)\n",
        "            else:\n",
        "                return False\n",
        "    if len(temp_data) == len(config['transaction_data']):\n",
        "        confirm = input_confirmation(config['msg_confirmation'], config['msg_not_in_choise'])\n",
        "        if confirm:\n",
        "            data_transaksi.append(temp_data)\n",
        "            config['transaction_data_rule'](temp_data)\n",
        "            print('Penambahan Transaksi Berhasil ...')\n",
        "            return True\n",
        "        print('Mohon isi data kembali ...')\n",
        "        return False"
      ],
      "metadata": {
        "id": "YhHR1ZB3FXZV"
      },
      "execution_count": null,
      "outputs": []
    },
    {
      "cell_type": "markdown",
      "source": [
        "> Fungsi-fungsi dibawah mendukung fitur diatas berupa aturan-aturan yang memvalidasi dan manipulasi input menjadi data yang diinginkan. Kinerja fungsi ini mirip seperti call and response pada suatu aplikasi."
      ],
      "metadata": {
        "id": "GYJFCsAnJRjn"
      }
    },
    {
      "cell_type": "code",
      "execution_count": null,
      "metadata": {
        "id": "0uq5QGn13-Sx"
      },
      "outputs": [],
      "source": [
        "def column2(sku, data):\n",
        "    sku = int(sku)\n",
        "    node_target = data_bst.get(sku)\n",
        "    while node_target is None:\n",
        "        confirm = input_confirmation(\"no sku tidak terdaftar. Masukkan lagi?\", config['msg_not_in_choise'])\n",
        "        if confirm is False:\n",
        "            return False\n",
        "        sku = input('Masukkan kembali no SKU')\n",
        "        while sku.isnumeric() == False:\n",
        "            print('Stok tidak valid')\n",
        "            sku = input('Masukkan kembali no SKU')\n",
        "        sku = int(sku)\n",
        "        node_target = data_bst.get(sku)\n",
        "    return sku\n",
        "\n",
        "def column3(stok, data):\n",
        "    stok = int(stok)\n",
        "    node_target = data_bst.get(data[1])\n",
        "    while stok > node_target.jumlah_stok:\n",
        "        confirm = input_confirmation('stok tidak tersedia. Masukkan lagi? [y/n]', config['msg_not_in_choise'])\n",
        "        if confirm is False:\n",
        "            return False\n",
        "        stok = input('Masukkan kembali stok')\n",
        "        while stok.isnumeric() == False:\n",
        "            print('Stok tidak valid')\n",
        "            stok = input('Masukkan kembali stok')\n",
        "        stok = int(stok)\n",
        "    return stok\n",
        "\n",
        "def column4(data):\n",
        "    node_target = data_bst.get(data[1])\n",
        "    return node_target.harga_satuan * data[2]\n",
        "\n",
        "def data_list_handler(data):\n",
        "    node_target = data_bst.get(data[1])\n",
        "    node_target.jumlah_stok -= data[2]\n",
        "    return True"
      ]
    },
    {
      "cell_type": "markdown",
      "source": [
        "7. Tampil data transaksi\n",
        "\n",
        " > Fungsi ini bertujuan menampilkan data transaksi yang ada di list"
      ],
      "metadata": {
        "id": "ysE3wkchI2Xc"
      }
    },
    {
      "cell_type": "code",
      "source": [
        "def show_data_transaksi(data:list):\n",
        "    column = (('Nama Konsumen', 15), ('No. SKU', 7), ('Jumlah Beli', 11), ('Subtotal', 12))\n",
        "    make_table(column, data)"
      ],
      "metadata": {
        "id": "OTiaDQy4K_rQ"
      },
      "execution_count": null,
      "outputs": []
    },
    {
      "cell_type": "code",
      "source": [
        "def b2():\n",
        "    print(config['menu'][1]['lists'][1])\n",
        "    if len(data_transaksi) > 0:\n",
        "        show_data_transaksi(data_transaksi)\n",
        "        input_next('Ketik apapun untuk melanjutkan ...')\n",
        "        return True\n",
        "    else:\n",
        "        print('Tidak ada data Transaksi')\n",
        "        return False"
      ],
      "metadata": {
        "id": "JLoZw9BoFczC"
      },
      "execution_count": null,
      "outputs": []
    },
    {
      "cell_type": "markdown",
      "source": [
        "8. Tampil data transaksi terurut\n",
        "\n",
        " > Fungsi ini bertujuan menampilkan data transaksi yang ada di list dengan terurut berdasarkan subtotal. Pada kasus ini menggunakan algoritma bubblesort"
      ],
      "metadata": {
        "id": "6-N_WHKmI_Us"
      }
    },
    {
      "cell_type": "code",
      "execution_count": null,
      "metadata": {
        "id": "BAb7UJOh3-Sv"
      },
      "outputs": [],
      "source": [
        "def b3():\n",
        "    print(config['menu'][1]['lists'][2])\n",
        "    if len(data_transaksi) > 0:\n",
        "        view_list = data_transaksi\n",
        "        show_data_transaksi(config['sort_method'](view_list, 3))\n",
        "        input_next('Ketik apapun untuk melanjutkan ...')\n",
        "        return True\n",
        "    else:\n",
        "        print('Tidak ada data Transaksi')\n",
        "        return False"
      ]
    },
    {
      "cell_type": "markdown",
      "source": [
        "9. Edit Data Transaksi\n",
        "\n",
        "> Fungsi ini dapat mengubah data transaksi berdasarkan id yang diberikan"
      ],
      "metadata": {
        "id": "93kFXZ1PKQLe"
      }
    },
    {
      "cell_type": "code",
      "source": [
        "def b4():\n",
        "    print(config['menu'][1]['lists'][3])\n",
        "    if len(data_transaksi) > 0:\n",
        "        column = (('id', 4), ('Nama Konsumen', 15), ('No. SKU', 7), ('Jumlah Beli', 11), ('Subtotal', 12))\n",
        "        data = list(map(lambda x: (x[0], *x[1]), list(enumerate(data_transaksi))))\n",
        "        make_table(column, data)\n",
        "        index_transaksi = input('Masukkan index data yang ingin di edit -> ')\n",
        "        while index_transaksi.isnumeric() == False or expected_type(index_transaksi, int)[1] >= len(data_transaksi) or expected_type(index_transaksi, int)[1] < 0:\n",
        "            print('Pilihan tidak valid')\n",
        "            index_transaksi = input('Masukkan index data yang ingin di edit -> ')\n",
        "        temp_data = []\n",
        "        for i, v in enumerate(config['transaction_data']):\n",
        "            if v['is_shown']:\n",
        "                inputted = input(f\"Masukkan data {v['title']} -> \")\n",
        "                if v['is_int']:\n",
        "                    while inputted.isnumeric() == False:\n",
        "                        print('data tidak valid')\n",
        "                        inputted = input(f\"Masukkan data {v['title']} -> \")\n",
        "                if v['rule'] is None:\n",
        "                    temp_data.append(inputted)\n",
        "                else:\n",
        "                    value_rule = v['rule'](inputted, temp_data)\n",
        "                    if value_rule != False:\n",
        "                        temp_data.append(value_rule)\n",
        "                    else:\n",
        "                        return False\n",
        "            else:\n",
        "                value_rule = v['rule'](temp_data)\n",
        "                if value_rule != False:\n",
        "                    temp_data.append(value_rule)\n",
        "                else:\n",
        "                    return False\n",
        "        if len(temp_data) == len(config['transaction_data']):\n",
        "            confirm = input_confirmation(config['msg_confirmation'], config['msg_not_in_choise'])\n",
        "            if confirm:\n",
        "                data_transaksi[int(index_transaksi)] = temp_data\n",
        "                config['transaction_data_rule'](temp_data)\n",
        "                print('Edit Transaksi Berhasil ...')\n",
        "                return True\n",
        "            return False\n",
        "    else:\n",
        "        print('Tidak ada data Transaksi')\n",
        "        return False"
      ],
      "metadata": {
        "id": "Hmi02qBBKnow"
      },
      "execution_count": null,
      "outputs": []
    },
    {
      "cell_type": "markdown",
      "source": [
        "10. Hapus Data Transaksi\n",
        "\n",
        "> Fungsi ini berguna untuk menghapus data transaksi berdasarkan id."
      ],
      "metadata": {
        "id": "9pJVeU0EKWTy"
      }
    },
    {
      "cell_type": "code",
      "source": [
        "def b5():\n",
        "    print(config['menu'][1]['lists'][4])\n",
        "    if len(data_transaksi) > 0:\n",
        "        column = (('id', 4), ('Nama Konsumen', 12), ('No. SKU', 5), ('Jumlah Beli', 11), ('Subtotal', 12))\n",
        "        data = list(map(lambda x: (x[0], *x[1]), list(enumerate(data_transaksi))))\n",
        "        make_table(column, data)\n",
        "        inputted = input('Masukkan index data yang ingin di hapus -> ')\n",
        "        while inputted.isnumeric() == False or expected_type(inputted, int)[1] >= len(data_transaksi) or expected_type(inputted, int)[1] < 0:\n",
        "            print('Pilihan tidak valid')\n",
        "            inputted = input('Masukkan index data yang ingin di hapus -> ')\n",
        "        status = data_transaksi.pop(int(inputted))\n",
        "        if status is not None:\n",
        "            print('Hapus Transaksi Berhasil ...')\n",
        "            return True\n",
        "        else:\n",
        "            print('Hapus Transaksi Gagal ...')\n",
        "            return False\n",
        "    else:\n",
        "        print('Tidak ada data Transaksi')\n",
        "        return False"
      ],
      "metadata": {
        "id": "fCYRBApzKqW4"
      },
      "execution_count": null,
      "outputs": []
    },
    {
      "cell_type": "markdown",
      "source": [
        "> Fungsi-fungsi dibawah mendukung fitur diatas"
      ],
      "metadata": {
        "id": "3dIX95PYJdsB"
      }
    },
    {
      "cell_type": "code",
      "execution_count": null,
      "metadata": {
        "id": "ZdxpaZ-p3-Sw"
      },
      "outputs": [],
      "source": [
        "def bubbleSort(data, anchor_index):\n",
        "    for i in range(len(data) - 1, 0, -1):\n",
        "        for j in range(i):\n",
        "            if data[j][anchor_index] > data[j+1][anchor_index]:\n",
        "                data[j], data[j+1] = data[j+1], data[j]\n",
        "    return data"
      ]
    },
    {
      "cell_type": "markdown",
      "source": [
        "### **Configuration Application**\n",
        "---"
      ],
      "metadata": {
        "id": "-VQ8Hu0QJhgf"
      }
    },
    {
      "cell_type": "markdown",
      "source": [
        "> Kode ini membuat aplikasi menjadi lebih mudah untuk dimaintenance dan mudah untuk melakukan penambahan fitur"
      ],
      "metadata": {
        "id": "dZrypRiCJwt-"
      }
    },
    {
      "cell_type": "code",
      "execution_count": null,
      "metadata": {
        "id": "xZhVTHTs3-Sy"
      },
      "outputs": [],
      "source": [
        "config = {\n",
        "    'title': 'Selamat Datang di Aplikasi SITORSI',\n",
        "    'menu' : [\n",
        "        {\n",
        "            'title': 'Kelola Stok Barang',\n",
        "            'lists': [\n",
        "                'Input Data Stok Barang',\n",
        "                'Restok Barang',\n",
        "                'Lihat Stok berdasarkan SKU',\n",
        "                'Lihat Semua Barang',\n",
        "                'Hapus Data Barang',\n",
        "            ],\n",
        "            'routes': [a1, a2, a3, a4, a5]\n",
        "        },\n",
        "        {\n",
        "            'title': 'Kelola Transaksi Konsumen',\n",
        "            'lists': [\n",
        "                'Input Data Transaksi Baru',\n",
        "                'Lihat Data Seluruh Transaksi Konsumen',\n",
        "                'Lihat Data Transaksi Berdasarkan Subtotal',\n",
        "                'Edit Data Transaksi',\n",
        "                'Hapus Data Transaksi',\n",
        "            ],\n",
        "            'routes': [b1, b2, b3, b4, b5]\n",
        "        }\n",
        "    ],\n",
        "    'bst_attributes': [\n",
        "        # Index ke-0 akan menjadi Primary Attribute\n",
        "        {\n",
        "            'id': 'sku',\n",
        "            'title': 'Nomor SKU',\n",
        "            'is_int': True,\n",
        "            'type': int,\n",
        "        },\n",
        "        {\n",
        "            'id': 'nama_barang',\n",
        "            'title': 'Nama Barang',\n",
        "            'is_int': False,\n",
        "            'type': str,\n",
        "        },\n",
        "        {\n",
        "            'id': 'harga_satuan',\n",
        "            'title': 'Harga Satuan',\n",
        "            'is_int': True,\n",
        "            'type': int,\n",
        "        },\n",
        "        {\n",
        "            'id': 'jumlah_stok',\n",
        "            'title': 'Jumlah Stok',\n",
        "            'is_int': True,\n",
        "            'type': int,\n",
        "        },\n",
        "    ],\n",
        "    'transaction_data': [\n",
        "        {\n",
        "            'id': 'nama_konsumen',\n",
        "            'title': 'Nama Konsumen',\n",
        "            'is_shown': True,\n",
        "            'is_int': False,\n",
        "            'type': str,\n",
        "            'rule': None\n",
        "        },\n",
        "        {\n",
        "            'id': 'sku',\n",
        "            'title': 'No SKU yang dibeli',\n",
        "            'is_shown': True,\n",
        "            'is_int': True,\n",
        "            'type': int,\n",
        "            'rule': column2\n",
        "        },\n",
        "        {\n",
        "            'id': 'jumlah_beli',\n",
        "            'title': 'Jumlah Beli',\n",
        "            'is_shown': True,\n",
        "            'is_int': True,\n",
        "            'type': int,\n",
        "            'rule': column3\n",
        "        },\n",
        "        {\n",
        "            'id': 'subtotal',\n",
        "            'title': 'Subtotal',\n",
        "            'is_shown': False,\n",
        "            'is_int': True,\n",
        "            'type': int,\n",
        "            'rule': column4\n",
        "        }\n",
        "    ],\n",
        "    'bst_primary_attribute': 'sku',\n",
        "    'bst_stock_attribute': 'jumlah_stok',\n",
        "    'transaction_data_primary': 'subtotal',\n",
        "    'transaction_data_rule': data_list_handler,\n",
        "    'view_method': make_table,\n",
        "    'WIDTH_VIEW': 60,\n",
        "    'sort_method': bubbleSort,\n",
        "    'back_choise': 'Kembali',\n",
        "    'exit_choise': 'Keluar Aplikasi',\n",
        "    'msg_choise': 'Silahkan masukkan pilihan anda -> ',\n",
        "    'msg_not_in_choise': 'Mohon isikan pilihan dengan benar...',\n",
        "    'msg_confirmation': 'Apakah data yang diatas sudah benar?',\n",
        "    'msg_duplicate_primary_bst': 'Terdapat Kesamaan No SKU',\n",
        "    'msg_exit': 'Terima kasih',\n",
        "    'delay_input': 1,\n",
        "    'delay_after_program': 2,\n",
        "    'delay_msg': 2\n",
        "}"
      ]
    },
    {
      "cell_type": "markdown",
      "source": [
        "> Berikut adalah masing-masing kegunaan keys"
      ],
      "metadata": {
        "id": "epmUr0vFJ8Pi"
      }
    },
    {
      "cell_type": "markdown",
      "source": [
        "| Key | Kegunaan | Tipe Data |\n",
        "|---|---|---|\n",
        "|title|Menampilkan judul pada main menu|String\n",
        "|menu|Membuat Struktur menu (max. 1 lapisan sub menu)|List\n",
        "|bst_attributes|Membuat atribut node yang dibutuhkan BST|List\n",
        "|transaction_data|Membuat kolom-kolom pada list transaksi|List\n",
        "|bst_primary_attribute|Menyesuaikan atribut acuan sesuai id|String\n",
        "|bst_stock_attribute|Menyesuaikan atribut stok sesuai id|String\n",
        "|transaction_data_primary|Menyesuaikan kolom acuan sesuai id|String\n",
        "|transaction_data_rule|Menjalankan fungsi ini setelah melaksanakan append pada list utama|Function\n",
        "|view_method|Jenis metode penampilan output yang dipilih|Function\n",
        "|WIDTH_VIEW|Panjang layar output|Integer\n",
        "|sort_method|Metode algoritma sorting yang dipilih|Function\n",
        "|back_choise|Tampilan pilihan kembali|String\n",
        "|exit_choise|Tampilan pilihan keluar|String\n",
        "|msg_choise|Pesan untuk memilih menu|String\n",
        "|msg_not_in_choise|Pesan error input di luar pilihan|String\n",
        "|msg_confirmation|Pesan konfirmasi|String\n",
        "|msg_duplicate_primary_bst|Pesan error duplikat no sku|String\n",
        "|msg_exit|Pesan setelah keluar aplikasi|String\n",
        "|delay_input|Delay sebelum melakukan input (sekon)|Integer\n",
        "|delay_after_program|Delay setelah melaksanakan sub-program (sekon)|Integer\n",
        "|delay_msg|Delay untuk menampilkan pesan (sekon)|Integer"
      ],
      "metadata": {
        "id": "BdQXij99Y5m0"
      }
    },
    {
      "cell_type": "markdown",
      "source": [
        "### **Main Menu**\n",
        "---"
      ],
      "metadata": {
        "id": "R0j5v_ORKIoc"
      }
    },
    {
      "cell_type": "markdown",
      "source": [
        "> Penjalanan aplikasi bisa dimulai darisini"
      ],
      "metadata": {
        "id": "FnjrqC9IKMWO"
      }
    },
    {
      "cell_type": "code",
      "execution_count": null,
      "metadata": {
        "id": "WLUlltPd3-Sy"
      },
      "outputs": [],
      "source": [
        "def menu():\n",
        "    while True:\n",
        "        print(f\"{config['title']}\\n{config['msg_choise']}\")\n",
        "        print(f\"[0] {config['exit_choise']}\")\n",
        "        for i, v in enumerate(config['menu']):\n",
        "            print(f\"[{i + 1}] {v['title']}\")\n",
        "        choise = input(config['msg_choise'])\n",
        "        if choise == '0':\n",
        "            break\n",
        "        if choise in tuple(map(lambda x: str(x), range(1, len(config['menu']) + 1))):\n",
        "            choise = int(choise) - 1\n",
        "            while True:\n",
        "                print(f\"{config['msg_choise']}\\n-> {config['menu'][choise]['title']}\")\n",
        "                print(f\"[0] {config['back_choise']}\")\n",
        "                for i, v in enumerate(config['menu'][choise]['lists']):\n",
        "                    print(f\"[{i + 1}] {v}\")\n",
        "                sub_choise = input(config['msg_choise'])\n",
        "                if sub_choise == '0':\n",
        "                    break\n",
        "                if sub_choise in tuple(map(lambda x: str(x), range(1, len(config['menu'][choise]['lists']) + 1))):\n",
        "                    sub_choise = int(sub_choise) - 1\n",
        "                    config['menu'][choise]['routes'][sub_choise]()\n",
        "                    break\n",
        "                else:\n",
        "                    print(config['msg_not_in_choise'])\n",
        "        else:\n",
        "            print(config['msg_not_in_choise'])\n",
        "    print(config['msg_exit'])\n",
        "\n",
        "if __name__ == '__main__':\n",
        "    from IPython.display import Javascript\n",
        "    display(Javascript('''google.colab.output.setIframeHeight(0, true, {maxHeight: 5000})'''))\n",
        "    menu()"
      ]
    }
  ],
  "metadata": {
    "kernelspec": {
      "display_name": "Python 3",
      "language": "python",
      "name": "python3"
    },
    "language_info": {
      "codemirror_mode": {
        "name": "ipython",
        "version": 3
      },
      "file_extension": ".py",
      "mimetype": "text/x-python",
      "name": "python",
      "nbconvert_exporter": "python",
      "pygments_lexer": "ipython3",
      "version": "3.11.1"
    },
    "orig_nbformat": 4,
    "colab": {
      "provenance": []
    }
  },
  "nbformat": 4,
  "nbformat_minor": 0
}